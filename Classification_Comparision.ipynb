{
  "nbformat": 4,
  "nbformat_minor": 0,
  "metadata": {
    "colab": {
      "name": "Classification_Comparision.ipynb",
      "provenance": [],
      "collapsed_sections": [],
      "include_colab_link": true
    },
    "kernelspec": {
      "display_name": "Python 3",
      "name": "python3"
    },
    "language_info": {
      "name": "python"
    }
  },
  "cells": [
    {
      "cell_type": "markdown",
      "metadata": {
        "id": "view-in-github",
        "colab_type": "text"
      },
      "source": [
        "<a href=\"https://colab.research.google.com/github/ZhilaAghajari/classification_methods_comparision/blob/main/Classification_Comparision.ipynb\" target=\"_parent\"><img src=\"https://colab.research.google.com/assets/colab-badge.svg\" alt=\"Open In Colab\"/></a>"
      ]
    },
    {
      "cell_type": "code",
      "metadata": {
        "colab": {
          "base_uri": "https://localhost:8080/"
        },
        "id": "XmuWq0kVNhWY",
        "outputId": "dbd638dd-e93c-4de4-db49-afe019879d3c"
      },
      "source": [
        "# Cifar data set\n",
        "!gdown --id 1fxiOJsKcHLaTzuZ4shFN5D9ZtXJh-N24"
      ],
      "execution_count": null,
      "outputs": [
        {
          "output_type": "stream",
          "text": [
            "Downloading...\n",
            "From: https://drive.google.com/uc?id=1fxiOJsKcHLaTzuZ4shFN5D9ZtXJh-N24\n",
            "To: /content/cifar-10-python.tar.gz\n",
            "170MB [00:01, 92.2MB/s]\n"
          ],
          "name": "stdout"
        }
      ]
    },
    {
      "cell_type": "code",
      "metadata": {
        "id": "A1ZymaorSdgQ"
      },
      "source": [
        "# Extracting the Cifar data set\n",
        "import tarfile\n",
        "fname = \"cifar-10-python.tar.gz\"\n",
        "if fname.endswith(\"tar.gz\"):\n",
        "    tar = tarfile.open(fname, \"r:gz\")\n",
        "    tar.extractall()\n",
        "    tar.close()\n",
        "elif fname.endswith(\"tar\"):\n",
        "    tar = tarfile.open(fname, \"r:\")\n",
        "    tar.extractall()\n",
        "    tar.close()\n"
      ],
      "execution_count": null,
      "outputs": []
    },
    {
      "cell_type": "code",
      "metadata": {
        "id": "TJjvxLzjXfdp"
      },
      "source": [
        ""
      ],
      "execution_count": null,
      "outputs": []
    },
    {
      "cell_type": "code",
      "metadata": {
        "colab": {
          "base_uri": "https://localhost:8080/"
        },
        "id": "AecLZXjoR3FA",
        "outputId": "3188735a-735f-4e6f-f6d6-f118c173d284"
      },
      "source": [
        "# MNIST data set\n",
        "!gdown --id 1vJxb2GHtfZXumCjL4JfnnlU4bp1D1SWX\n",
        "!gdown --id 1hq9Q9B6fvUPyazzrdnnqSy5JO7sAuUg4"
      ],
      "execution_count": null,
      "outputs": [
        {
          "output_type": "stream",
          "text": [
            "Downloading...\n",
            "From: https://drive.google.com/uc?id=1vJxb2GHtfZXumCjL4JfnnlU4bp1D1SWX\n",
            "To: /content/MNIST_data.txt\n",
            "100% 48.0/48.0 [00:00<00:00, 79.2kB/s]\n",
            "Downloading...\n",
            "From: https://drive.google.com/uc?id=1hq9Q9B6fvUPyazzrdnnqSy5JO7sAuUg4\n",
            "To: /content/cho.txt\n",
            "100% 36.3k/36.3k [00:00<00:00, 28.1MB/s]\n"
          ],
          "name": "stdout"
        }
      ]
    },
    {
      "cell_type": "code",
      "metadata": {
        "colab": {
          "base_uri": "https://localhost:8080/"
        },
        "id": "yqlKZJEj36SV",
        "outputId": "59f33ae5-6eab-4684-c02b-a859878335fa"
      },
      "source": [
        "!gdown --id 1CACpD4cXHJCHDUlyS0Yih-ScP568eJvi"
      ],
      "execution_count": null,
      "outputs": [
        {
          "output_type": "stream",
          "text": [
            "Downloading...\n",
            "From: https://drive.google.com/uc?id=1CACpD4cXHJCHDUlyS0Yih-ScP568eJvi\n",
            "To: /content/iyer.txt\n",
            "\r  0% 0.00/33.5k [00:00<?, ?B/s]\r100% 33.5k/33.5k [00:00<00:00, 57.4MB/s]\n"
          ],
          "name": "stdout"
        }
      ]
    },
    {
      "cell_type": "code",
      "metadata": {
        "id": "foUjRS01XXij"
      },
      "source": [
        "import numpy as np\n",
        "import tensorflow as tf\n",
        "from tensorflow.keras import layers, models\n",
        "import pandas as pd\n",
        "import pickle\n",
        "from xgboost import XGBClassifier, XGBRFClassifier\n",
        "from sklearn.decomposition import PCA\n",
        "from sklearn.model_selection import train_test_split\n",
        "from sklearn import svm\n",
        "from sklearn.metrics import confusion_matrix, roc_auc_score, recall_score, \\\n",
        "\t\t\t\t\t\t\tprecision_score, f1_score\n",
        "from keras.layers import Dense, Flatten, Conv1D, MaxPooling1D\n",
        "\n",
        "from keras.utils import to_categorical\n",
        "from sklearn.manifold import TSNE\n",
        "from sklearn.model_selection import cross_val_score\n",
        "\n"
      ],
      "execution_count": null,
      "outputs": []
    },
    {
      "cell_type": "code",
      "metadata": {
        "colab": {
          "base_uri": "https://localhost:8080/"
        },
        "id": "GVKfEw8bUogs",
        "outputId": "c0f26c92-886f-4329-b90c-8b294007f616"
      },
      "source": [
        "#Cho data set\n",
        "!gdown --id 1k7KnufxjWEVix32WXFPzHZgpDxdMOMfR"
      ],
      "execution_count": null,
      "outputs": [
        {
          "output_type": "stream",
          "text": [
            "Downloading...\n",
            "From: https://drive.google.com/uc?id=1k7KnufxjWEVix32WXFPzHZgpDxdMOMfR\n",
            "To: /content/cho.txt\n",
            "\r  0% 0.00/36.3k [00:00<?, ?B/s]\r100% 36.3k/36.3k [00:00<00:00, 61.3MB/s]\n"
          ],
          "name": "stdout"
        }
      ]
    },
    {
      "cell_type": "code",
      "metadata": {
        "id": "jJVbSUMQPHPK"
      },
      "source": [
        "def visualize(data, cluster, title):\n",
        "  pca = PCA(n_components=2)\n",
        "  pca_data = pca.fit_transform(data)\n",
        "  plt.scatter(x =pca_data[:, 0], y = pca_data[:,1], c=clusters)\n",
        "  plt.title(title)"
      ],
      "execution_count": null,
      "outputs": []
    },
    {
      "cell_type": "code",
      "metadata": {
        "id": "004eCx4-vh3j"
      },
      "source": [
        "def spliting_train_test(dataset):\n",
        "  if dataset =='MNIST':\n",
        "    (train,train_labels),(test,test_labels) = tf.keras.datasets.mnist.load_data()\n",
        "  elif (dataset =='CHO'):\n",
        "    data = pd.read_csv('./cho.txt', sep = '\\t', header = None)\n",
        "    # x = data.iloc[:,:-1]\n",
        "    # y = data.iloc[:, 1]\n",
        "    y = data.iloc[:,1]\n",
        "    x = data.iloc[:,2:]\n",
        "    train, test, train_labels, test_labels = train_test_split(x, y, test_size = 0.3, random_state=42)\n",
        "  \n",
        "  elif (dataset =='IYER'):\n",
        "    data = pd.read_csv('./iyer.txt', sep = '\\t', header = None)\n",
        "    # x = data.iloc[:,:-1]\n",
        "    # y = data.iloc[:, 1]\n",
        "    y = data.iloc[:,1]\n",
        "    x = data.iloc[:,3:]\n",
        "    train, test, train_labels, test_labels = train_test_split(x, y, test_size = 0.3, random_state=42)\n",
        "  \n",
        "  elif (dataset == 'CIFAR'):\n",
        "    # train_dic = {}\n",
        "    train = []\n",
        "    for i in range(5):\n",
        "      file = './cifar-10-batches-py/data_batch_'+str(i+1)\n",
        "      with open(file, 'rb') as fo:\n",
        "          dic = pickle.load(fo, encoding='bytes')\n",
        "          if train == []:\n",
        "            # train = np.array(dict[b'data'][0:dict[b'data'].shape[0], 0:dict[b'data'].shape[1]])\n",
        "            # print(train.shape)\n",
        "            # train= (dic[b'data']).reshape((dic[b'data'].shape[0], 32,32, 3), order='F')\n",
        "            train = (dic[b'data']).reshape(10000, 3, 32, 32).transpose(0,2,3,1).astype(\"uint8\")\n",
        "      \n",
        "            train_labels = np.array(dic[b'labels'])\n",
        "          else:\n",
        "            # concatinate the new batch to the train set ..\n",
        "            train = np.vstack((train, (dic[b'data']).reshape(10000, 3, 32, 32).transpose(0,2,3,1).astype(\"uint8\")))\n",
        "            \n",
        "            train_labels = np.hstack((train_labels, np.array(dic[b'labels'])))\n",
        "\n",
        "          # train_dic = {**train_dic, **dict}\n",
        "      \n",
        "    file = './cifar-10-batches-py/test_batch'\n",
        "    with open(file, 'rb') as fo:\n",
        "      test_dic = pickle.load(fo, encoding='bytes')\n",
        "      # test = (test_dic[b'data']).reshape((test_dic[b'data'].shape[0], 32,32, 3))\n",
        "      test = (test_dic[b'data']).reshape(10000, 3, 32, 32).transpose(0,2,3,1).astype(\"uint8\")\n",
        "      test_labels = np.array(test_dic[b'labels'])\n",
        "  \n",
        "  return (train, test, train_labels, test_labels)"
      ],
      "execution_count": null,
      "outputs": []
    },
    {
      "cell_type": "code",
      "metadata": {
        "id": "newLCa4q5_Va"
      },
      "source": [
        "def classification(method, train,train_labels,test,test_labels, pca_flag, data_set):\n",
        "  res_prob = []\n",
        "  if (method == 'XGboost'):\n",
        "    # for the 3D data:\n",
        "    if data_set =='MNIST':\n",
        "      train = train.reshape(train.shape[0], train.shape[1]*train.shape[2]) #vectorizing the input for XGBoost\n",
        "      test = test.reshape(test.shape[0], test.shape[1]*test.shape[2])\n",
        "    # if(len(train.shape ==4)):\n",
        "    if data_set == 'CIFAR':\n",
        "      train = train.reshape(train.shape[0], train.shape[1]*train.shape[2]*train.shape[3])\n",
        "      test = test.reshape(test.shape[0], test.shape[1]*test.shape[2]*test.shape[3])\n",
        "    \n",
        "    #dimention reduction using PCA method \n",
        "    if pca_flag == True:\n",
        "      # if len(train[0]<20):\n",
        "      if data_set == 'CHO':\n",
        "        n_comp = 3\n",
        "      else:\n",
        "        n_comp = 20\n",
        "      pca = PCA(n_components = n_comp)\n",
        "      pca.fit(train)\n",
        "      train = pca.transform(train)\n",
        "      test = pca.transform(test)\n",
        " \n",
        "    #applying XGBoost model ..\n",
        "    model = XGBClassifier(max_depth=4) #defult max depth is 3.. #defult n_estimator  = 50\n",
        "    model.fit(np.asfarray(train), np.asfarray(train_labels)) \n",
        "    res = model.predict(np.asfarray(test))\n",
        "    return res\n",
        " \n",
        "  elif (method =='SVM'):\n",
        "    # for the 3D data:\n",
        "    if(len(train.shape)== 3): \n",
        "      train = train.reshape(train.shape[0], train.shape[1]*train.shape[2]) #vectorized it for SVM\n",
        "      test = test.reshape(test.shape[0], test.shape[1]*test.shape[2])\n",
        "    \n",
        "    if len(train.shape)==4:\n",
        "      train = train.reshape(train.shape[0], train.shape[1]*train.shape[2]*train.shape[3])\n",
        "      test = test.reshape(test.shape[0], test.shape[1]*test.shape[2]*test.shape[3])\n",
        "    \n",
        "    #dimention reduction using PCA method \n",
        "    if pca_flag == True:\n",
        "      if len(train[0]<20):\n",
        "        n_comp = 10\n",
        "      else:\n",
        "        n_comp = 20\n",
        "      pca = PCA(n_components = n_comp)\n",
        "      pca.fit(train)\n",
        "      train = pca.transform(train)\n",
        "      test = pca.transform(test)\n",
        " \n",
        "    #applying SVM model ..\n",
        "    # model = svm.SVC(decision_function_shape='ovr', kernel='sigmoid', probability = True)\n",
        "    model = svm.SVC(decision_function_shape='ovr', kernel='sigmoid')\n",
        "    scores = cross_val_score(model, train, train_labels, cv=10)\n",
        "    # print('Score: ', scores)\n",
        "    model.fit(train, train_labels)\n",
        "    # res = model.predict_proba(test)\n",
        "    res = model.predict(test)\n",
        "    print(res)\n",
        "    return res\n",
        "  elif (method =='CNN'): # Remmber it won't result good for cho.txt, I guess. so test it\n",
        "  # create the CNN model     \n",
        "    # test_labels_t = test_labels[:,:]\n",
        "    if data_set =='CHO':\n",
        "      test_labels_t = test_labels[:]\n",
        "      train_labels = tf.one_hot(train_labels, np.max(train_labels)-np.min(train_labels)+1)\n",
        "      test_labels = tf.one_hot(test_labels, np.max(test_labels)-np.min(test_labels)+1)\n",
        " \n",
        " \n",
        "      model = models.Sequential()\n",
        "      #hyper parameters .. \n",
        "      epochs = 20\n",
        "      output_num = train_labels.shape[1] #np.max(test_labels)-np.min(test_labels)+1\n",
        "      n_features = train.shape[1] # set it after doing PCA -- \n",
        "      train = train.reshape(train.shape[0],n_features,1)\n",
        "      test= test.reshape(test.shape[0],n_features,1)\n",
        "    \n",
        "      print(train_labels.shape, test_labels.shape)\n",
        "      print(train.shape, test.shape)\n",
        "      # model.add(layers.Conv1D(filters=32, kernel_size=2, activation='relu', input_shape=(n_features, 1)))\n",
        "      # model.add(MaxPooling1D(pool_size=2))\n",
        "      # model.add(Flatten())\n",
        "      # DNN model\n",
        "      model.add(layers.Dense(1024, activation='relu',input_shape=(n_features, 1)))\n",
        "      model.add(layers.Dense(2048, activation='relu',input_shape=(n_features, 1)))\n",
        "      model.add(Flatten())\n",
        "      model.add(layers.Dropout(.2))\n",
        "      model.add(layers.Dense(output_num,activation='softmax'))\n",
        "    \n",
        " \n",
        " \n",
        "    elif data_set =='MNIST':\n",
        "      test_labels_t = test_labels[:]\n",
        "      train_labels = tf.one_hot(train_labels, 10)\n",
        "      test_labels = tf.one_hot(test_labels, 10)\n",
        "      print(train_labels.shape,test_labels.shape)\n",
        "      model = models.Sequential()\n",
        "      train = train.reshape(train.shape[0],28,28,1) # \n",
        "      train = train.astype('float32') \n",
        "      # train, train_labels = train / 255.0, train_labels / 255.0\n",
        "      train = train / 255.0\n",
        " \n",
        "      test = test.reshape(test.shape[0],28,28,1)\n",
        "      test = test.astype('float32')\n",
        "      # test, test_labels = test / 255.0, test_labels / 255.0\n",
        "      test, test / 255.0\n",
        "      \n",
        "     \n",
        "      #hyper-parameters\n",
        "      epochs = 10\n",
        "      output_num = 10\n",
        "  \n",
        "      #explain the layer here ... and in the report \n",
        "      model.add(layers.Conv2D(64,(5,5), activation='relu', input_shape=(28, 28,1) ))\n",
        "      model.add(layers.MaxPooling2D(2,2))\n",
        "      model.add(layers.Conv2D(128,(5,5), activation='relu'))\n",
        "      model.add(layers.MaxPooling2D(2,2))\n",
        "      #we need to flatten the output of maxpooling before giving it to Dense layer \n",
        "      model.add(layers.Flatten())\n",
        "      model.add(layers.Dense(526,activation='relu'))\n",
        "      model.add(layers.Dropout(0.2))\n",
        "      model.add(layers.Dense(output_num,activation='softmax'))\n",
        "    elif data_set =='CIFAR':\n",
        "      train_labels = tf.one_hot(train_labels, 10)\n",
        "      test_labels_t = test_labels[:]\n",
        "      test_labels = tf.one_hot(test_labels, 10)\n",
        "      model = models.Sequential()\n",
        "      train = train.reshape(train.shape[0], 32, 32, 3, 1)\n",
        "      train =train.astype('float32')\n",
        "      #scaling -- because pixcels are between 0 to 255\n",
        "      train = train / 255.0\n",
        " \n",
        "      test = test.reshape(test.shape[0], 32, 32, 3, 1)\n",
        "      test = test.astype('float32')\n",
        "      test = test / 255.0\n",
        " \n",
        "      #hyper-parameters\n",
        "      epochs = 10\n",
        "      output_num = 10\n",
        "  \n",
        "      #explain the layer here ... and in the report \n",
        "      model.add(layers.Conv3D(64,(3,3,1), activation='relu', input_shape=(32, 32, 3,1) ))\n",
        "      model.add(layers.MaxPooling3D((2,2,1)))\n",
        "      model.add(layers.Conv3D(128,(3,3,1), activation='relu'))\n",
        "      model.add(layers.MaxPooling3D((2,2,1)))\n",
        "      #explain the layer here ... and in the report\n",
        "      model.add(layers.Flatten())\n",
        "      model.add(layers.Dense(128,activation='relu'))\n",
        "      model.add(layers.Dropout(0.2))\n",
        "      model.add(layers.Dense(output_num,activation='softmax'))\n",
        "    \n",
        "    if data_set == 'CHO':\n",
        "      model.compile(optimizer='adam',loss = 'categorical_crossentropy', metrics=['accuracy'])\n",
        "    else:\n",
        "      model.compile(optimizer='adam',loss = 'categorical_crossentropy', metrics=['accuracy'])\n",
        " \n",
        "    #training and prediction..\n",
        "    # model.compile(optimizer='adam',loss = 'categorical_crossentropy', metrics=['accuracy'])\n",
        "    # model.fit(train,train_labels,epochs=epochs,validation_data=(test,test_labels))\n",
        "    model.fit(train,train_labels,epochs=epochs, batch_size = 16)\n",
        "\n",
        "    # demonstrate prediction\n",
        "    res = model.predict(test)\n",
        "    # print('****')\n",
        "    # print(res)\n",
        "    # print(res.shape)\n",
        "    auc = roc_auc_score(test_labels_t,res,multi_class='ovr',average = 'macro')\n",
        "    print('AUC value : {0}'.format(auc))\n",
        "    # res_prob = res\n",
        "    res = np.argmax(res,axis=1) # so we won't get probabiblity anymore\n",
        "\n",
        "    return res\n"
      ],
      "execution_count": null,
      "outputs": []
    },
    {
      "cell_type": "code",
      "metadata": {
        "id": "JmRV9z-guESm"
      },
      "source": [
        "def evaluation(results, labels, result_matrix):\n",
        "  #accuracy: number of classified correctly/number of all samples\n",
        "  accurac = (np.asfarray(labels)==results).sum()/len(labels)\n",
        "  f_score = f1_score(labels,results,average='macro')\n",
        "  auc = roc_auc_score(labels,result_matrix,multi_class='ovr',average = 'macro')\n",
        "  rec = recall_score(labels,results,average='macro')\n",
        "  precis = precision_score(labels,results,average='macro')\n",
        "  # area under curve .. AUC\n",
        "  return accurac, rec, precis, f_score, auc"
      ],
      "execution_count": null,
      "outputs": []
    },
    {
      "cell_type": "code",
      "metadata": {
        "colab": {
          "base_uri": "https://localhost:8080/"
        },
        "id": "YsNG2wBbuIh9",
        "outputId": "40aa46ad-9ba2-4212-9ce7-31f617cb2897"
      },
      "source": [
        "# set the dataset\n",
        "data_set = 'CHO'\n",
        "train, test, train_labels, test_labels = spliting_train_test(data_set)\n",
        "# if the dataset is CHO I convert it to numpy (because I read it as dataframe)\n",
        "if data_set == 'CHO':\n",
        "  train = train.values\n",
        "  test = test.values\n",
        "  train_labels = train_labels.values-1\n",
        "  test_labels = test_labels.values-1\n",
        "# method = 'CNN'\n",
        "method = 'SVM'\n",
        "# method = 'CNN'\n",
        "pca_flag = False\n",
        "# print(train.shape[1])\n",
        "res = classification(method, train,train_labels,test,test_labels, pca_flag, data_set)\n",
        "# res = np.argmax(res_prob,axis=1) \n",
        "result_matrix = np.zeros((test_labels.size,int(np.max(test_labels)-np.min(test_labels))+1))\n",
        "res_list = [int(i) for i in res.tolist()]\n",
        "result_matrix[np.arange(len(res_list)),res_list] = 1.0\n"
      ],
      "execution_count": null,
      "outputs": [
        {
          "output_type": "stream",
          "text": [
            "[4 2 2 2 1 3 1 2 3 0 1 1 1 4 1 4 1 1 4 2 0 1 3 0 1 0 1 1 3 0 3 1 0 2 1 2 0\n",
            " 1 3 3 0 0 4 0 1 1 3 4 0 1 3 1 1 2 0 1 4 3 0 1 3 4 1 3 4 0 1 2 1 4 1 1 0 0\n",
            " 1 4 1 1 3 4 0 1 1 4 1 2 4 1 4 1 4 1 4 1 0 3 3 0 0 0 3 4 1 1 3 4 2 1 2 1 1\n",
            " 0 4 1 1 4]\n"
          ],
          "name": "stdout"
        }
      ]
    },
    {
      "cell_type": "code",
      "metadata": {
        "colab": {
          "base_uri": "https://localhost:8080/"
        },
        "id": "PaAvgcs7eDtS",
        "outputId": "ec7ca618-80c7-4bab-ce29-c66e5c186f1c"
      },
      "source": [
        "res.shape\n",
        "result_matrix.shape"
      ],
      "execution_count": null,
      "outputs": [
        {
          "output_type": "execute_result",
          "data": {
            "text/plain": [
              "(116, 5)"
            ]
          },
          "metadata": {
            "tags": []
          },
          "execution_count": 12
        }
      ]
    },
    {
      "cell_type": "code",
      "metadata": {
        "colab": {
          "base_uri": "https://localhost:8080/"
        },
        "id": "1GtDAI6SuLa3",
        "outputId": "b8a35ca9-7569-42e0-cb71-65ee69278ef6"
      },
      "source": [
        "results = evaluation(res, test_labels, result_matrix)\n",
        "print(results)"
      ],
      "execution_count": null,
      "outputs": [
        {
          "output_type": "stream",
          "text": [
            "(0.6724137931034483, 0.6229405594405594, 0.6248535777947544, 0.6194538300228553, 0.7693812472141738)\n"
          ],
          "name": "stdout"
        }
      ]
    },
    {
      "cell_type": "code",
      "metadata": {
        "id": "Jy8lZqukji2w",
        "colab": {
          "base_uri": "https://localhost:8080/",
          "height": 321
        },
        "outputId": "422ddde9-a046-4fc5-e939-44206fc0a60f"
      },
      "source": [
        "import matplotlib.pyplot as plt\n",
        "import matplotlib.image as mpimg\n",
        "data_set = 'CIFAR'\n",
        "train, test, train_labels, test_labels = spliting_train_test(data_set)\n",
        "plt.imshow(train[2000])\n",
        "print(train[0].shape)"
      ],
      "execution_count": null,
      "outputs": [
        {
          "output_type": "stream",
          "text": [
            "/usr/local/lib/python3.7/dist-packages/ipykernel_launcher.py:27: DeprecationWarning: elementwise comparison failed; this will raise an error in the future.\n"
          ],
          "name": "stderr"
        },
        {
          "output_type": "stream",
          "text": [
            "(32, 32, 3)\n"
          ],
          "name": "stdout"
        },
        {
          "output_type": "display_data",
          "data": {
            "image/png": "[encoded data removed]",
            "text/plain": [
              "<Figure size 432x288 with 1 Axes>"
            ]
          },
          "metadata": {
            "tags": [],
            "needs_background": "light"
          }
        }
      ]
    },
    {
      "cell_type": "code",
      "metadata": {
        "id": "SyqBqEtM70rn"
      },
      "source": [
        "# from google.colab import drive\n",
        "# drive.mount('/content/drive')"
      ],
      "execution_count": null,
      "outputs": []
    },
    {
      "cell_type": "code",
      "metadata": {
        "id": "E96P24j2tcg0"
      },
      "source": [
        "def plot_tnse(x, y):\n",
        "  tsne_data = TSNE(n_components=2).fit_transform(x)\n",
        "  plt.scatter(x =tsne_data[:, 0], y = tsne_data[:,1], c=y)\n"
      ],
      "execution_count": null,
      "outputs": []
    }
  ]
}